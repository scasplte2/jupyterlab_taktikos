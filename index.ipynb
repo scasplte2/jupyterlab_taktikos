{
 "cells": [
  {
   "cell_type": "code",
   "execution_count": 10,
   "metadata": {},
   "outputs": [],
   "source": [
    "import numpy as np\n",
    "import hashlib\n",
    "\n",
    "# initialize variables\n",
    "gamma = 10\n",
    "fa = 0.4\n",
    "fb = 0.05\n",
    "\n",
    "# calculate variables\n",
    "c = fa / gamma\n",
    "\n",
    "# varied parameters\n",
    "si = np.arange(0, 21, 1)\n",
    "sp = np.arange(0, 21, 1)"
   ]
  },
  {
   "cell_type": "code",
   "execution_count": 11,
   "metadata": {},
   "outputs": [
    {
     "data": {
      "text/plain": [
       "b'\\xe7\\xa3\\xf8\\x08\\xcb\\x06\\x87\\xfd6`\\xe9V\\xa5\\xdf\\x0f\\x00\\xe2>\\xda\\xc5e\\x07i\\xec5N\\xe6p\\xb6X\\x85\\x8c'"
      ]
     },
     "execution_count": 11,
     "metadata": {},
     "output_type": "execute_result"
    }
   ],
   "source": [
    "m = hashlib.sha256()\n",
    "m.update(b\"Nobody inspects\")\n",
    "m.digest()"
   ]
  },
  {
   "cell_type": "code",
   "execution_count": null,
   "metadata": {},
   "outputs": [],
   "source": []
  }
 ],
 "metadata": {
  "kernelspec": {
   "display_name": "Python 3",
   "language": "python",
   "name": "python3"
  },
  "language_info": {
   "codemirror_mode": {
    "name": "ipython",
    "version": 3
   },
   "file_extension": ".py",
   "mimetype": "text/x-python",
   "name": "python",
   "nbconvert_exporter": "python",
   "pygments_lexer": "ipython3",
   "version": "3.9.2"
  },
  "widgets": {
   "application/vnd.jupyter.widget-state+json": {
    "state": {},
    "version_major": 1,
    "version_minor": 0
   }
  }
 },
 "nbformat": 4,
 "nbformat_minor": 4
}
